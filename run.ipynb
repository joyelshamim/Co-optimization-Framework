{
 "cells": [
  {
   "cell_type": "markdown",
   "id": "f6a71a2a",
   "metadata": {},
   "source": [
    "# Run Mobile Energy Storage Optimization Tool\n",
    "\n",
    "This notebook provides an interface to run the MESS optimization tool. It executes the main.py script which:\n",
    "\n",
    "1. Lists available optimization models in the CSS folder\n",
    "2. Allows you to select and run a specific model\n",
    "3. Displays optimization results\n",
    "4. Saves results and visualizations in the 'Result' folder"
   ]
  },
  {
   "cell_type": "code",
   "execution_count": 4,
   "id": "0d6fa13d",
   "metadata": {},
   "outputs": [],
   "source": [
    "# Fix for Windows asyncio warning\n",
    "import asyncio\n",
    "import platform\n",
    "\n",
    "if platform.system() == 'Windows':\n",
    "    asyncio.set_event_loop_policy(asyncio.WindowsSelectorEventLoopPolicy())"
   ]
  },
  {
   "cell_type": "markdown",
   "id": "e5f1ae7a",
   "metadata": {},
   "source": [
    "## Setup Environment\n",
    "\n",
    "First, let's ensure we have the proper configuration for running the models:"
   ]
  },
  {
   "cell_type": "code",
   "execution_count": 5,
   "id": "setup_config",
   "metadata": {},
   "outputs": [
    {
     "name": "stdout",
     "output_type": "stream",
     "text": [
      "✅ config.py is already available in the CSS folder\n",
      "✅ Successfully imported config module. Project root: C:\\Users\\LENOVO\\model check for github\n"
     ]
    }
   ],
   "source": [
    "import os\n",
    "import sys\n",
    "import shutil\n",
    "\n",
    "# Make config.py available in both the root and CSS directories\n",
    "root_config_path = 'config.py'\n",
    "css_config_path = os.path.join('CSS', 'config.py')\n",
    "\n",
    "if os.path.exists(root_config_path):\n",
    "    if not os.path.exists(css_config_path):\n",
    "        try:\n",
    "            # For Windows, create a copy of the file\n",
    "            if os.name == 'nt':\n",
    "                shutil.copy2(root_config_path, css_config_path)\n",
    "                print(f\"✅ Created a copy of config.py in the CSS folder\")\n",
    "            else:\n",
    "                # For Unix-like systems, create a symbolic link\n",
    "                if os.path.exists(css_config_path):\n",
    "                    os.remove(css_config_path)\n",
    "                os.symlink(os.path.abspath(root_config_path), css_config_path)\n",
    "                print(f\"✅ Created a symbolic link to config.py in the CSS folder\")\n",
    "            \n",
    "            # Also add the root directory to the Python path\n",
    "            if os.path.abspath('.') not in sys.path:\n",
    "                sys.path.insert(0, os.path.abspath('.'))\n",
    "                print(f\"✅ Added the root directory to the Python path\")\n",
    "                \n",
    "        except Exception as e:\n",
    "            print(f\"⚠️ Warning: Failed to set up config.py access: {str(e)}\")\n",
    "            print(\"   Models may fail to run if they cannot import the config module.\")\n",
    "    else:\n",
    "        print(f\"✅ config.py is already available in the CSS folder\")\n",
    "        \n",
    "    # Verify that the config module can be imported\n",
    "    try:\n",
    "        from config import get_project_root\n",
    "        project_root = get_project_root()\n",
    "        print(f\"✅ Successfully imported config module. Project root: {project_root}\")\n",
    "    except ImportError as e:\n",
    "        print(f\"❌ Error importing config module: {str(e)}\")\n",
    "        print(\"   Please check that config.py contains the expected functions.\")\n",
    "else:\n",
    "    print(f\"❌ config.py not found in the root directory. Models may fail to run.\")"
   ]
  },
  {
   "cell_type": "markdown",
   "id": "run_script",
   "metadata": {},
   "source": [
    "## Run the main.py script\n",
    "\n",
    "Execute the following cell to run the optimization tool:"
   ]
  },
  {
   "cell_type": "code",
   "execution_count": 6,
   "id": "48abbe69-ddc3-47f4-8a7d-a5b16887820b",
   "metadata": {},
   "outputs": [
    {
     "name": "stdout",
     "output_type": "stream",
     "text": [
      "Normalizing Model1_LargeScale.ipynb...\n",
      "Normalizing Model1_SmallScale.ipynb...\n",
      "Normalizing Model2_LargeScale.ipynb...\n",
      "Normalizing Model2_SmallScale.ipynb...\n",
      "Normalizing Model3_LargeScale.ipynb...\n",
      "Normalizing Model3_SmallScale.ipynb...\n",
      "Normalized 6 notebook files.\n"
     ]
    }
   ],
   "source": [
    "%run normalize_notebooks.py"
   ]
  },
  {
   "cell_type": "code",
   "execution_count": null,
   "id": "a493b789",
   "metadata": {},
   "outputs": [
    {
     "name": "stdout",
     "output_type": "stream",
     "text": [
      "============================================================\n",
      "MOBILE ENERGY STORAGE OPTIMIZATION TOOL\n",
      "============================================================\n",
      "\n",
      "This tool allows you to run different optimization models for Mobile Energy Storage Systems (MESS).\n",
      "\n",
      "Available optimization models:\n",
      "----------------------------------\n",
      "1. Model1 LargeScale\n",
      "2. Model1 SmallScale\n",
      "3. Model2 LargeScale\n",
      "4. Model2 SmallScale\n",
      "5. Model3 LargeScale\n",
      "6. Model3 SmallScale\n",
      "----------------------------------\n",
      "\n",
      "Select an option:\n",
      "1. Run a specific optimization model\n",
      "2. List generated results\n",
      "3. Exit\n"
     ]
    },
    {
     "name": "stdin",
     "output_type": "stream",
     "text": [
      "\n",
      "Enter your choice (1-3):  1\n",
      "\n",
      "Enter the number of the model to run:  1\n"
     ]
    },
    {
     "name": "stdout",
     "output_type": "stream",
     "text": [
      "Running optimization model: Model1 LargeScale\n",
      "\n",
      "Error modifying notebook: 'dict' object has no attribute 'cell_type'\n",
      "Running model from: Model1_LargeScale.ipynb\n",
      "This may take a minute...\n",
      "\n"
     ]
    }
   ],
   "source": [
    "%run main.py"
   ]
  },
  {
   "cell_type": "markdown",
   "id": "c9c19f4c",
   "metadata": {},
   "source": [
    "## Note on Results\n",
    "\n",
    "Results are displayed directly in the output of the model execution and are not saved to files. If you need to save specific results, you can modify the model notebooks directly."
   ]
  },
  {
   "attachments": {},
   "cell_type": "markdown",
   "id": "3694b1cf",
   "metadata": {},
   "source": [
    "## Model Description\n",
    "\n",
    "The Mobile Energy Storage Systems (MESS) optimization framework utilizes dynamic programming to optimize transportation route costs with the following features:\n",
    "\n",
    "1. **Traffic-aware and terrain-sensitive routing**: Incorporating real-time traffic data and terrain gradients\n",
    "2. **Battery degradation modeling**: Using empirical battery degradation models to account for battery lifecycle costs\n",
    "3. **Locational Marginal Pricing (LMP)**: Dynamic pricing based on grid conditions\n",
    "4. **Co-optimization approach**: Simultaneously optimizing travel routes, traffic constraints, battery degradation, and charging costs\n",
    "\n",
    "The 6 models are variations over three main model types with both small-scale and large-scale implementations:\n",
    "\n",
    "- **MODEL1**: Nickel Manganese Cobalt Oxide (NMC)\n",
    "    The degradation model for NMC batteries focuses solely on cyclic aging, excluding calendar aging effects. This makes it suitable for applications where cycle life is the primary concern.\n",
    "\n",
    "- **MODEL2**: : Lithium Iron Phosphate (LFP)\n",
    "    The LFP degradation model considers both calendar and cyclic aging effects, unlike the NMC model, where degradation is isolated to cyclic stress.\n",
    "\n",
    "- **MODEL3**:Generalized Model\n",
    "    A generalized degradation model incorporates the impact of Depth of Discharge (DoD) on degradation cost per cycle, making it adaptable across different lithium-ion chemistries."
   ]
  },
  {
   "cell_type": "code",
   "execution_count": null,
   "id": "75c3d27c",
   "metadata": {},
   "outputs": [],
   "source": []
  }
 ],
 "metadata": {
  "kernelspec": {
   "display_name": "Python 3 (ipykernel)",
   "language": "python",
   "name": "python3"
  },
  "language_info": {
   "codemirror_mode": {
    "name": "ipython",
    "version": 3
   },
   "file_extension": ".py",
   "mimetype": "text/x-python",
   "name": "python",
   "nbconvert_exporter": "python",
   "pygments_lexer": "ipython3",
   "version": "3.12.3"
  }
 },
 "nbformat": 4,
 "nbformat_minor": 5
}
